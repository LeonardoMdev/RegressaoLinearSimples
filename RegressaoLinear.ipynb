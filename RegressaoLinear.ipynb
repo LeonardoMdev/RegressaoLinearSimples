{
  "nbformat": 4,
  "nbformat_minor": 0,
  "metadata": {
    "colab": {
      "provenance": []
    },
    "kernelspec": {
      "name": "python3",
      "display_name": "Python 3"
    },
    "language_info": {
      "name": "python"
    }
  },
  "cells": [
    {
      "cell_type": "code",
      "execution_count": 17,
      "metadata": {
        "id": "uLFIFKMeIqKA",
        "colab": {
          "base_uri": "https://localhost:8080/"
        },
        "outputId": "4f2a60af-2090-4165-f8c6-2d4f9d0a23ba"
      },
      "outputs": [
        {
          "output_type": "stream",
          "name": "stdout",
          "text": [
            "Previsão para x=6: 12.0\n"
          ]
        }
      ],
      "source": [
        "from numpy import *\n",
        "\n",
        "class LinearRegression:\n",
        "    def __init__(self, x, y):\n",
        "        self.x = x\n",
        "        self.y = y\n",
        "        # Calcula os valores necessários assim que o objeto é criado\n",
        "        self.__correlation_coefficient = self.__correlacao()\n",
        "        self.__inclination = self.__inclinacao()\n",
        "        self.__intercept = self.__interceptacao()\n",
        "\n",
        "    # Método privado que calcula o coeficiente de correlação\n",
        "    def __correlacao(self):\n",
        "        covariacao = cov(self.x, self.y, bias=True)[0][1]\n",
        "        variancia_x = var(self.x)\n",
        "        variancia_y = var(self.y)\n",
        "        return covariacao / sqrt(variancia_x * variancia_y)\n",
        "\n",
        "    # Método privado que calcula a inclinação da reta\n",
        "    def __inclinacao(self):\n",
        "        stdx = std(self.x)\n",
        "        stdy = std(self.y)\n",
        "        return self.__correlation_coefficient * (stdy / stdx)\n",
        "\n",
        "    # Método privado que calcula o intercepto da reta\n",
        "    def __interceptacao(self):\n",
        "        mediax = mean(self.x)\n",
        "        mediay = mean(self.y)\n",
        "        return mediay - self.__inclination * mediax\n",
        "\n",
        "    # Método público para prever o valor de y dado um x\n",
        "    def previsao(self, valor):\n",
        "        return self.__intercept + (self.__inclination * valor)\n",
        "\n",
        "# Criando arrays de entrada (valores conhecidos)\n",
        "x = array([1, 2, 3, 4, 5])\n",
        "y = array([2, 4, 6, 8, 10])\n",
        "\n",
        "# Criando o modelo de regressão\n",
        "lr = LinearRegression(x, y)\n",
        "\n",
        "# Fazendo uma previsão para x = 6\n",
        "print(\"Previsão para x=6:\", lr.previsao(6))\n"
      ]
    }
  ]
}